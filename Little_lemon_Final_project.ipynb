{
 "cells": [
  {
   "cell_type": "markdown",
   "id": "307db3ba",
   "metadata": {},
   "source": [
    "<center><h1><b>Little Lemon analysis and sales report</b></h1></center>"
   ]
  },
  {
   "cell_type": "markdown",
   "id": "1cf2a95c",
   "metadata": {},
   "source": [
    "<p>Little Lemon es un acogedor restaurante familiar que te envuelve en un ambiente cálido y amigable desde el momento en que cruzas la puerta. Con su encanto hogareño y detalles pintorescos, este rincón culinario es conocido por sus platos caseros y deliciosos postres que deleitan a grandes y pequeños por igual. El menú, cuidadosamente elaborado con ingredientes frescos y locales, ofrece una experiencia gastronómica única. Ya sea para una comida íntima en familia o una celebración especial, Little Lemon es el lugar perfecto para disfrutar de momentos memorables con seres queridos.</p>"
   ]
  },
  {
   "cell_type": "markdown",
   "id": "abb9d656",
   "metadata": {},
   "source": [
    "<h3>Import mysql.connector and Create our first connection to the database in localhost</h3>"
   ]
  },
  {
   "cell_type": "code",
   "execution_count": null,
   "id": "27af3e38-c87a-4fcc-9462-6ddfcba8c24e",
   "metadata": {},
   "outputs": [],
   "source": [
    "# Import MySql Connector/Python\n",
    "import mysql.connector as connector\n",
    "\n",
    "connection = connector.connect(user=\"root\", password=\"\")"
   ]
  },
  {
   "cell_type": "markdown",
   "id": "2838fda3",
   "metadata": {},
   "source": [
    "<h3>Instance our cursor</h3>"
   ]
  },
  {
   "cell_type": "code",
   "execution_count": 54,
   "id": "b84143dd-6496-470b-bf1a-f01d951acab4",
   "metadata": {},
   "outputs": [],
   "source": [
    "cursor = connection.cursor()"
   ]
  },
  {
   "cell_type": "markdown",
   "id": "2f6d4dc1",
   "metadata": {},
   "source": [
    "<h3>Delete and Create a new database with the name <b>little_lemon_db</b></h3>"
   ]
  },
  {
   "cell_type": "code",
   "execution_count": 55,
   "id": "1747114a-cc11-4e77-b886-31a4b45e8e25",
   "metadata": {},
   "outputs": [],
   "source": [
    "cursor.execute(\"DROP DATABASE IF EXISTS little_lemon_db;\")\n",
    "cursor.execute(\"CREATE DATABASE IF NOT EXISTS little_lemon_db\")"
   ]
  },
  {
   "cell_type": "markdown",
   "id": "6d19e28d",
   "metadata": {},
   "source": [
    "<h3>Use our cursor to indicate that we going to use our database that we created</h3>"
   ]
  },
  {
   "cell_type": "code",
   "execution_count": 56,
   "id": "88e75347-6329-40d0-992d-db896489b29e",
   "metadata": {},
   "outputs": [],
   "source": [
    "cursor.execute(\"USE little_lemon_db\")"
   ]
  },
  {
   "cell_type": "markdown",
   "id": "e4c1d1f2",
   "metadata": {},
   "source": [
    "<h3>Create our tables</h3>"
   ]
  },
  {
   "cell_type": "code",
   "execution_count": 57,
   "id": "54d0f519-3f37-43b3-9df6-40f066af71d8",
   "metadata": {},
   "outputs": [],
   "source": [
    "#MenuItems table\n",
    "create_menuitem_table = \"\"\"CREATE TABLE IF NOT EXISTS MenuItems (\n",
    "ItemID INT AUTO_INCREMENT,\n",
    "Name VARCHAR(200),\n",
    "Type VARCHAR(100),\n",
    "Price INT,\n",
    "PRIMARY KEY (ItemID)\n",
    ");\"\"\""
   ]
  },
  {
   "cell_type": "code",
   "execution_count": 58,
   "id": "e8d0756b-e979-4188-a6d6-49e8416c56b5",
   "metadata": {},
   "outputs": [],
   "source": [
    "create_menu_table = \"\"\"CREATE TABLE IF NOT EXISTS Menus (\n",
    "MenuID INT,\n",
    "ItemID INT,\n",
    "Cuisine VARCHAR(100),\n",
    "PRIMARY KEY (MenuID,ItemID)\n",
    ");\"\"\""
   ]
  },
  {
   "cell_type": "code",
   "execution_count": 59,
   "id": "6154dda6-ed12-48f7-9e28-50254445b852",
   "metadata": {},
   "outputs": [],
   "source": [
    "create_booking_table = \"\"\"CREATE TABLE IF NOT EXISTS Bookings (\n",
    "BookingID INT AUTO_INCREMENT,\n",
    "TableNo INT,\n",
    "GuestFirstName VARCHAR(100) NOT NULL,\n",
    "GuestLastName VARCHAR(100) NOT NULL,\n",
    "BookingSlot TIME NOT NULL,\n",
    "EmployeeID INT,\n",
    "PRIMARY KEY (BookingID)\n",
    ");\"\"\""
   ]
  },
  {
   "cell_type": "code",
   "execution_count": 60,
   "id": "eee7a731-c9d6-43ef-84df-b7796173ab9e",
   "metadata": {},
   "outputs": [],
   "source": [
    "create_orders_table = \"\"\"CREATE TABLE IF NOT EXISTS Orders (\n",
    "OrderID INT,\n",
    "TableNo INT,\n",
    "MenuID INT,\n",
    "BookingID INT,\n",
    "BillAmount INT,\n",
    "Quantity INT,\n",
    "PRIMARY KEY (OrderID,TableNo)\n",
    ");\"\"\""
   ]
  },
  {
   "cell_type": "code",
   "execution_count": 61,
   "id": "919f3caa-58ad-469a-aba4-d56697c8fc4a",
   "metadata": {},
   "outputs": [],
   "source": [
    "create_employees_table = \"\"\"CREATE TABLE IF NOT EXISTS Employees (\n",
    "EmployeeID INT AUTO_INCREMENT PRIMARY KEY,\n",
    "Name VARCHAR (255),\n",
    "Role VARCHAR (100),\n",
    "Address VARCHAR (255),\n",
    "Contact_Number INT,\n",
    "Email VARCHAR (255),\n",
    "Annual_Salary VARCHAR (100)\n",
    ");\"\"\""
   ]
  },
  {
   "cell_type": "markdown",
   "id": "11cd659d",
   "metadata": {},
   "source": [
    "<h3>Use our cursor.execute command to create all our tables that we going to need to our project</h3>"
   ]
  },
  {
   "cell_type": "code",
   "execution_count": 62,
   "id": "0ba7ae00-58b4-4e08-82d6-a03a840858a8",
   "metadata": {},
   "outputs": [],
   "source": [
    "# Create MenuItems table\n",
    "cursor.execute(create_menuitem_table)\n",
    "\n",
    "# Create Menu table\n",
    "cursor.execute(create_menu_table)\n",
    "\n",
    "# Create Bookings table\n",
    "cursor.execute(create_booking_table)\n",
    "\n",
    "# Create Orders table\n",
    "cursor.execute(create_orders_table)\n",
    "\n",
    "# Create Employees table\n",
    "cursor.execute(create_employees_table)"
   ]
  },
  {
   "cell_type": "markdown",
   "id": "867c56a5",
   "metadata": {},
   "source": [
    "<h3>Declare our variables with the data we going to insert to our tables</h3>"
   ]
  },
  {
   "cell_type": "code",
   "execution_count": 63,
   "id": "ef01a021-45ef-4ab8-a522-8fffa8b02625",
   "metadata": {},
   "outputs": [],
   "source": [
    "#*******************************************************#\n",
    "# Insert query to populate \"MenuItems\" table:\n",
    "#*******************************************************#\n",
    "insert_menuitems=\"\"\"\n",
    "INSERT INTO MenuItems (ItemID, Name, Type, Price)\n",
    "VALUES\n",
    "(1, 'Olives','Starters',5),\n",
    "(2, 'Flatbread','Starters', 5),\n",
    "(3, 'Minestrone', 'Starters', 8),\n",
    "(4, 'Tomato bread','Starters', 8),\n",
    "(5, 'Falafel', 'Starters', 7),\n",
    "(6, 'Hummus', 'Starters', 5),\n",
    "(7, 'Greek salad', 'Main Courses', 15),\n",
    "(8, 'Bean soup', 'Main Courses', 12),\n",
    "(9, 'Pizza', 'Main Courses', 15),\n",
    "(10, 'Greek yoghurt','Desserts', 7),\n",
    "(11, 'Ice cream', 'Desserts', 6),\n",
    "(12, 'Cheesecake', 'Desserts', 4),\n",
    "(13, 'Athens White wine', 'Drinks', 25),\n",
    "(14, 'Corfu Red Wine', 'Drinks', 30),\n",
    "(15, 'Turkish Coffee', 'Drinks', 10),\n",
    "(16, 'Turkish Coffee', 'Drinks', 10),\n",
    "(17, 'Kabasa', 'Main Courses', 17);\"\"\"\n",
    "\n",
    "#*******************************************************#\n",
    "# Insert query to populate \"Menu\" table:\n",
    "#*******************************************************#\n",
    "insert_menu=\"\"\"\n",
    "INSERT INTO Menus (MenuID,ItemID,Cuisine)\n",
    "VALUES\n",
    "(1, 1, 'Greek'),\n",
    "(1, 7, 'Greek'),\n",
    "(1, 10, 'Greek'),\n",
    "(1, 13, 'Greek'),\n",
    "(2, 3, 'Italian'),\n",
    "(2, 9, 'Italian'),\n",
    "(2, 12, 'Italian'),\n",
    "(2, 15, 'Italian'),\n",
    "(3, 5, 'Turkish'),\n",
    "(3, 17, 'Turkish'),\n",
    "(3, 11, 'Turkish'),\n",
    "(3, 16, 'Turkish');\"\"\"\n",
    "\n",
    "#*******************************************************#\n",
    "# Insert query to populate \"Bookings\" table:\n",
    "#*******************************************************#\n",
    "insert_bookings=\"\"\"\n",
    "INSERT INTO Bookings (BookingID, TableNo, GuestFirstName, \n",
    "GuestLastName, BookingSlot, EmployeeID)\n",
    "VALUES\n",
    "(1, 12, 'Anna','Iversen','19:00:00',1),\n",
    "(2, 12, 'Joakim', 'Iversen', '19:00:00', 1),\n",
    "(3, 19, 'Vanessa', 'McCarthy', '15:00:00', 3),\n",
    "(4, 15, 'Marcos', 'Romero', '17:30:00', 4),\n",
    "(5, 5, 'Hiroki', 'Yamane', '18:30:00', 2),\n",
    "(6, 8, 'Diana', 'Pinto', '20:00:00', 5);\"\"\"\n",
    "\n",
    "#*******************************************************#\n",
    "# Insert query to populate \"Orders\" table:\n",
    "#*******************************************************#\n",
    "insert_orders=\"\"\"\n",
    "INSERT INTO Orders (OrderID, TableNo, MenuID, BookingID, Quantity, BillAmount)\n",
    "VALUES\n",
    "(1, 12, 1, 1, 2, 86),\n",
    "(2, 19, 2, 2, 1, 37),\n",
    "(3, 15, 2, 3, 1, 37),\n",
    "(4, 5, 3, 4, 1, 40),\n",
    "(5, 8, 1, 5, 1, 43);\"\"\"\n",
    "\n",
    "#*******************************************************#\n",
    "# Insert query to populate \"Employees\" table:\n",
    "#*******************************************************#\n",
    "insert_employees = \"\"\"\n",
    "INSERT INTO employees (EmployeeID, Name, Role, Address, Contact_Number, Email, Annual_Salary)\n",
    "VALUES\n",
    "(01, 'Mario Gollini', 'Manager', '724, Parsley Lane, Old Town, Chicago, IL', 351258074, 'Mario.g@littlelemon.com','$70,000'),\n",
    "(02,'Adrian Gollini','Assistant Manager','334, Dill Square, Lincoln Park, Chicago, IL',351474048,'Adrian.g@littlelemon.com','$65,000'),\n",
    "(03,'Giorgos Dioudis','Head Chef','879 Sage Street, West Loop, Chicago, IL',351970582,'Giorgos.d@littlelemon.com','$50,000'),\n",
    "(04,'Fatma Kaya','Assistant Chef','132  Bay Lane, Chicago, IL',351963569,'Fatma.k@littlelemon.com','$45,000'),\n",
    "(05,'Elena Salvai','Head Waiter','989 Thyme Square, EdgeWater, Chicago, IL',351074198,'Elena.s@littlelemon.com','$40,000'),\n",
    "(06,'John Millar','Receptionist','245 Dill Square, Lincoln Park, Chicago, IL',351584508,'John.m@littlelemon.com','$35,000');\"\"\"\n"
   ]
  },
  {
   "cell_type": "markdown",
   "id": "23664e75",
   "metadata": {},
   "source": [
    "<h3>Use cursor.execute command to insert data to our tables,\n",
    "then we use connection.commit() to be sure that all our data was inserted correctly.</h3>"
   ]
  },
  {
   "cell_type": "code",
   "execution_count": 64,
   "id": "46b8b3ec-b6c2-4dbd-a53e-3f21760cfa96",
   "metadata": {},
   "outputs": [
    {
     "name": "stdout",
     "output_type": "stream",
     "text": [
      "\n",
      "\n",
      "Closing connections....\n"
     ]
    }
   ],
   "source": [
    "# Populate MenuItems table\n",
    "cursor.execute(insert_menuitems)\n",
    "connection.commit()\n",
    "\n",
    "# Populate MenuItems table\n",
    "cursor.execute(insert_menu)\n",
    "connection.commit()\n",
    "\n",
    "# Populate Bookings table\n",
    "cursor.execute(insert_bookings)\n",
    "connection.commit()\n",
    "\n",
    "# Populate Orders table\n",
    "cursor.execute(insert_orders)\n",
    "connection.commit()\n",
    "\n",
    "# Populate Employees table\n",
    "cursor.execute(insert_employees)\n",
    "connection.commit()\n",
    "\n",
    "print(\"\\n\\nClosing connections....\")\n",
    "connection.close()"
   ]
  },
  {
   "cell_type": "markdown",
   "id": "ce6ea0af",
   "metadata": {},
   "source": [
    "<h2>Task 1</h2>"
   ]
  },
  {
   "cell_type": "markdown",
   "id": "810f9750",
   "metadata": {},
   "source": [
    "<p>Complete the following steps to establish a connection pool:</p>"
   ]
  },
  {
   "cell_type": "markdown",
   "id": "6aa28ded",
   "metadata": {},
   "source": [
    "<ul>\n",
    "    <li>To create a connection pool, import <b>MySQLConnectionPool</b> class from MySQL Connector/Python.</li>\n",
    "    <li>To find the information on the error, import the <b>Error</b> class from MySQL Connector/Python.</li>\n",
    "    <li>Define your database configurations as a Python dictionary object called <b>dbconfig.</b></li>\n",
    "    <li>Establish a connection pool <b>[pool_name = pool_b]</b> with two connections. </li>\n",
    "    <li>Implement error handling using a <b>try-except</b> block in case the connection fails.</li>\n",
    "</ul>"
   ]
  },
  {
   "cell_type": "code",
   "execution_count": null,
   "id": "c062482f-71e7-4b50-acc8-29a2daacf7e3",
   "metadata": {},
   "outputs": [],
   "source": [
    "from mysql.connector import pooling\n",
    "from mysql.connector import Error\n",
    "\n",
    "# Declare our dbconfig data\n",
    "dbconfig = {\"host\" : \"localhost\", \"database\" : \"little_lemon_db\", \"user\" : \"root\",\"password\" : \"\"}\n",
    "\n",
    "try:\n",
    "    connection_pool = pooling.MySQLConnectionPool(pool_name=\"pool_b\",\n",
    "                                                  pool_size=2,**dbconfig)\n",
    "\n",
    "    print(\"Printing connection pool properties \")\n",
    "    print(\"Connection Pool Name - \", connection_pool.pool_name)\n",
    "    print(\"Connection Pool Size - \", connection_pool.pool_size)\n",
    "\n",
    "    # Get connection object from pool\n",
    "    connection_object = connection_pool.get_connection()\n",
    "    \n",
    "    if connection_object.is_connected():\n",
    "        db_Info = connection_object.get_server_info()\n",
    "        print(\"Connected to MySQL database using connection pool ... MySQL Server version on \", db_Info)\n",
    "\n",
    "        cursor_pool = connection_object.cursor()\n",
    "        cursor_pool.execute(\"SELECT database();\")\n",
    "        record = cursor_pool.fetchone()\n",
    "        print(\"Your connected to - \", record)\n",
    "except Error as e:\n",
    "    print(\"Error while connectin to MySQL using Connection pool \", e)\n",
    "finally:\n",
    "    cursor_pool.close()\n",
    "    connection_object.close()\n",
    "    print(\"\\n\\nClosing connections....\")\n",
    "    print(\"connection is close\")\n",
    "    print(\"Cursor is close\")"
   ]
  },
  {
   "cell_type": "markdown",
   "id": "78a947bb",
   "metadata": {},
   "source": [
    "<h2>Task 2</h2>"
   ]
  },
  {
   "cell_type": "markdown",
   "id": "640e2951",
   "metadata": {},
   "source": [
    "<p>Three guests are trying to book dinner slots simultaneously. Get the connections from <b>pool_b</b> and insert the following data in the Bookings table:</p>\n",
    "\n",
    "\n",
    "<p><b>TIP:</b> You need to add a connection to connect the third guest.</p>"
   ]
  },
  {
   "cell_type": "markdown",
   "id": "a5fe9640",
   "metadata": {},
   "source": [
    "<h3>First I create a list of dictionaries with the infomation of each person that want make a reservation in the restaurant</3>"
   ]
  },
  {
   "cell_type": "markdown",
   "id": "490222d9",
   "metadata": {},
   "source": [
    "<h5>Guest 1:</h5>\n",
    "    <ul>\n",
    "        <li><b>Table Number:</b> 8</li>\n",
    "        <li><b>First Name:</b> Anees</li>\n",
    "        <li><b>Last Name:</b> Java</li>\n",
    "        <li><b>Booking Time:</b> 18:00</li>\n",
    "        <li><b>EmployeeID:</b> 6</li>\n",
    "    </ul>\n",
    "\n",
    "<h5>Guest 2:</h5>\n",
    "    <ul>\n",
    "        <li><b>Table Number:</b> 5</li>\n",
    "        <li><b>First Name:</b> Bald</li>\n",
    "        <li><b>Last Name:</b> Vin</li>\n",
    "        <li><b>Booking Time:</b> 19:00</li>\n",
    "        <li><b>EmployeeID:</b> 6</li>\n",
    "    </ul>\n",
    "\n",
    "<h5>Guest 3:</h5>\n",
    "    <ul>\n",
    "        <li><b>Table Number:</b> 12</li>\n",
    "        <li><b>First Name:</b> Jay</li>\n",
    "        <li><b>Last Name:</b> Kon</li>\n",
    "        <li><b>Booking Time:</b> 19:30</li>\n",
    "        <li><b>EmployeeID:</b> 6</li>\n",
    "    </ul>"
   ]
  },
  {
   "cell_type": "code",
   "execution_count": 66,
   "id": "bce1c150-4a07-43e1-ae50-e8d59aea0105",
   "metadata": {},
   "outputs": [],
   "source": [
    "guests = [\n",
    "    {\n",
    "        \"TableNo\" : 8,\n",
    "        \"GuestFirstName\" : \"Anees\",\n",
    "        \"GuestLastName\" : \"Java\",\n",
    "        \"BookingSlot\" : \"18:00:00\",\n",
    "        \"EmployeeID\" : 6\n",
    "    },\n",
    "    {\n",
    "        \"TableNo\" : 5,\n",
    "        \"GuestFirstName\" : \"Bald\",\n",
    "        \"GuestLastName\" : \"Vin\",\n",
    "        \"BookingSlot\" : \"19:00:00\",\n",
    "        \"EmployeeID\" : 6\n",
    "    },\n",
    "    {\n",
    "        \"TableNo\" : 12,\n",
    "        \"GuestFirstName\" : \"Jay\",\n",
    "        \"GuestLastName\" : \"Kon\",\n",
    "        \"BookingSlot\" : \"19:30:00\",\n",
    "        \"EmployeeID\" : 6\n",
    "    }\n",
    "]"
   ]
  },
  {
   "cell_type": "markdown",
   "id": "2eed070a",
   "metadata": {},
   "source": [
    "<h3>I create a variable of string type, with the insert statement to insert data into our Booking table </h3>"
   ]
  },
  {
   "cell_type": "code",
   "execution_count": 67,
   "id": "8ae61c3e-e00d-43c8-b275-8c7e489a7297",
   "metadata": {},
   "outputs": [],
   "source": [
    "booking_stmt = \"INSERT INTO Bookings (TableNo, GuestFirstName, GuestLastName, BookingSlot, EmployeeID) VALUES (%(TableNo)s, %(GuestFirstName)s,%(GuestLastName)s,%(BookingSlot)s,%(EmployeeID)s)\""
   ]
  },
  {
   "cell_type": "markdown",
   "id": "e608a3b0",
   "metadata": {},
   "source": [
    "<h3>What happens if our pool are exhausted (busy, no more connections availables)?</h3>"
   ]
  },
  {
   "cell_type": "markdown",
   "id": "8b06b6d2",
   "metadata": {},
   "source": [
    "<p>I create the fuction below to handle all the petitions to our pool when our main pool are exhausted</p>"
   ]
  },
  {
   "cell_type": "markdown",
   "id": "631835e1",
   "metadata": {},
   "source": [
    "<ol>\n",
    "    <li>Instance a new <b>temp_pool</b> to handle all extra petitions and the <b>pool_size</b> will be exactly the connections we going to need for all our requestings in queue</li>\n",
    "    <li>Insert new reservations to our <b>Bookings Table</b></li>\n",
    "    <li>Close all connections that we create while we are inserting values to our tables</li>\n",
    "</ol>"
   ]
  },
  {
   "cell_type": "code",
   "execution_count": 68,
   "id": "c63e9935",
   "metadata": {},
   "outputs": [],
   "source": [
    "def erro_pool_exhausted(end):\n",
    "    try:\n",
    "        print(\"Re-Trying.....\")\n",
    "        cxn_pool = pooling.MySQLConnectionPool(pool_name=\"temp_pool\", pool_reset_session=True,\n",
    "                                                  pool_size=(len(guests) - end),**dbconfig)\n",
    "        print(\"Printing connection pool properties \")\n",
    "        print(\"Connection Pool Name - \", cxn_pool.pool_name)\n",
    "        print(\"Connection Pool Size - \", cxn_pool.pool_size)\n",
    "        print(\"\\n\\nAdding... new reservations...\")\n",
    "        for i in range(len(guests) - end):\n",
    "            cxn = cxn_pool.get_connection()\n",
    "            if cxn.is_connected:\n",
    "                cursor = cxn.cursor()\n",
    "                print(\"The guest {} {} is requesting info\"\n",
    "                    .format((guests[i + end][\"GuestFirstName\"] + guests[i + end][\"GuestLastName\"]), cxn.connection_id))\n",
    "                cursor.execute(booking_stmt, {\n",
    "                    'TableNo' : guests[i + end]['TableNo'],\n",
    "                    'GuestFirstName' : guests[i + end]['GuestFirstName'],\n",
    "                    'GuestLastName' : guests[i + end]['GuestLastName'],\n",
    "                    'BookingSlot' : guests[i + end]['BookingSlot'],\n",
    "                    'EmployeeID' : guests[i + end]['EmployeeID']\n",
    "                })\n",
    "                cxn.commit()\n",
    "            else:\n",
    "                print(\"No live connection made\")\n",
    "            cxn.close()\n",
    "    except Error as e:\n",
    "        print(\"Something went wrong! \", e)\n",
    "        print(\"\\n\\nClosing connections....\", i)\n",
    "        cxn.close()"
   ]
  },
  {
   "cell_type": "markdown",
   "id": "68155316",
   "metadata": {},
   "source": [
    "<p>This is our main connection_pool </p>\n",
    "<p>If our pool is exahusted our <b>try-except</b> will catch it and call our aux function to let our client make their reservation without problems</p>"
   ]
  },
  {
   "cell_type": "markdown",
   "id": "a6f6bb04",
   "metadata": {},
   "source": [
    "<p>Return all the connections back to the pool.</p>\n",
    "\n",
    "\n",
    "<p><b>TIP:</b> The pool size is two. However, you have three connected users. You can only return two connections. Returning a third connection will raise a <b>PoolError.</b> Use <b>try-except</b> to print the error message.</p>"
   ]
  },
  {
   "cell_type": "code",
   "execution_count": 69,
   "id": "1ff13041-9213-4249-8b29-94f952ae3da0",
   "metadata": {},
   "outputs": [
    {
     "name": "stdout",
     "output_type": "stream",
     "text": [
      "The guest AneesJava 10 is requesting info\n",
      "The guest BaldVin 9 is requesting info\n",
      "Something went wrong!  Failed getting connection; pool exhausted\n",
      "\n",
      "\n",
      "Closing connections....\n",
      "Re-Trying.....\n",
      "Printing connection pool properties \n",
      "Connection Pool Name -  temp_pool\n",
      "Connection Pool Size -  1\n",
      "\n",
      "\n",
      "Adding... new reservations...\n",
      "The guest JayKon 11 is requesting info\n"
     ]
    }
   ],
   "source": [
    "try:\n",
    "    for i in range(len(guests)):\n",
    "        conn = connection_pool.get_connection()\n",
    "        if conn.is_connected:\n",
    "            cursor = conn.cursor()\n",
    "            print(\"The guest {} {} is requesting info\"\n",
    "                 .format((guests[i][\"GuestFirstName\"] + guests[i][\"GuestLastName\"]), conn.connection_id))\n",
    "            cursor.execute(booking_stmt, {\n",
    "                'TableNo' : guests[i]['TableNo'],\n",
    "                'GuestFirstName' : guests[i]['GuestFirstName'],\n",
    "                'GuestLastName' : guests[i]['GuestLastName'],\n",
    "                'BookingSlot' : guests[i]['BookingSlot'],\n",
    "                'EmployeeID' : guests[i]['EmployeeID']\n",
    "            })\n",
    "            conn.commit()\n",
    "        else:\n",
    "            print(\"No live connection made\")\n",
    "        #conn.close()\n",
    "except Error as e:\n",
    "    print(\"Something went wrong! \", e)\n",
    "    print(\"\\n\\nClosing connections....\")\n",
    "    conn.close()\n",
    "    erro_pool_exhausted(i)\n",
    "\n",
    "        "
   ]
  },
  {
   "cell_type": "markdown",
   "id": "8b8f535e",
   "metadata": {},
   "source": [
    "<h2>Task 3</h2>\n",
    "<p>Create a report containing the following information:</p>\n",
    "<ul>\n",
    "    <li>The name and <b>EmployeeID</b> of the Little Lemon manager.</li>\n",
    "    <li>The name and role of the employee who receives the highest salary.</li>\n",
    "    <li>The number of guests booked between 18:00 and 20:00.</li>\n",
    "    <li>The full name and <b>BookingID</b> of all guests waiting to be seated with the receptionist in sorted order with respect to their <b>BookingSlot.</b></li>\n",
    "</ul>"
   ]
  },
  {
   "cell_type": "markdown",
   "id": "5066727d",
   "metadata": {},
   "source": [
    "<p>First, I drop if exist the views report_daily</p>\n",
    "<p>We need to take care about our pool connections and return all connections we create to our pool back.</p>"
   ]
  },
  {
   "cell_type": "code",
   "execution_count": 70,
   "id": "623e67ab-8af2-47ee-82c5-adf4f9145f2a",
   "metadata": {},
   "outputs": [
    {
     "name": "stdout",
     "output_type": "stream",
     "text": [
      "Detected a new connection with ID 9\n",
      "\n",
      "\n",
      "Closing connections....\n",
      "connection is close\n",
      "Cursor is close\n"
     ]
    }
   ],
   "source": [
    "try:\n",
    "    conn = connection_pool.get_connection()\n",
    "    print(\"Detected a new connection with ID {}\"\n",
    "                 .format(conn.connection_id))\n",
    "\n",
    "    if conn.is_connected:\n",
    "        cursor = conn.cursor()\n",
    "        cursor.execute('DROP VIEW IF EXISTS report_daily;')\n",
    "except Error as e:\n",
    "    print('Something went wrong! ', e)\n",
    "finally:\n",
    "    cursor.close()\n",
    "    conn.close()\n",
    "    print(\"\\n\\nClosing connections....\")\n",
    "    print(\"connection is close\")\n",
    "    print(\"Cursor is close\")"
   ]
  },
  {
   "cell_type": "markdown",
   "id": "9cba2bc7",
   "metadata": {},
   "source": [
    "<p>Create our SQL statement to create our view table with all the information we need to make our report.</p>"
   ]
  },
  {
   "cell_type": "code",
   "execution_count": 71,
   "id": "ba3133a2-228e-407f-bde3-6009f1891694",
   "metadata": {},
   "outputs": [],
   "source": [
    "crea_view_report = \"\"\"\n",
    "CREATE VIEW report_daily AS\n",
    "    WITH\n",
    "        Little_Lemon_Manager AS (SELECT Name AS 'Manager_Name', EmployeeID AS 'Manager_ID' FROM employees WHERE Role = 'Manager'),\n",
    "        Employee_MAX_Salary AS (SELECT Name AS 'Employee_Max_Salary', Role AS 'Role_Max_Salary' FROM employees WHERE Annual_Salary = (SELECT MAX(Annual_Salary) FROM employees) LIMIT 1),\n",
    "        Guest_booked AS (SELECT COUNT(BookingID) AS 'Booking_Count_18_to_20' FROM Bookings WHERE BookingSlot BETWEEN '18:00:00' AND '20:00:00'),\n",
    "        Guest_waiting AS (SELECT CONCAT(GuestFirstName, ' ', GuestLastName, ' ', BookingID) AS 'Guest_waiting_Name_ID' , BookingSlot AS 'Guest_Waiting_BookingSlot' FROM Bookings WHERE EmployeeID = 6)\n",
    "    SELECT Manager_Name, Manager_ID, NULL AS Employee_Max_Salary, NULL AS Role_Max_Salary, NULL AS Booking_Count_18_to_20, NULL AS Guest_waiting_Name_ID, NULL AS Guest_Waiting_BookingSlot FROM Little_Lemon_Manager\n",
    "    UNION\n",
    "    SELECT NULL,NULL,Employee_Max_Salary,Role_Max_Salary,NULL,NULL,NULL FROM Employee_MAX_Salary\n",
    "    UNION\n",
    "    SELECT NULL,NULL,NULL,NULL,Booking_Count_18_to_20,NULL,NULL FROM Guest_booked\n",
    "    UNION\n",
    "    SELECT NULL,NULL,NULL,NULL,NULL,Guest_waiting_Name_ID, Guest_Waiting_BookingSlot FROM Guest_waiting ORDER BY Guest_Waiting_BookingSlot ASC\n",
    "\"\"\""
   ]
  },
  {
   "cell_type": "markdown",
   "id": "434f57fa",
   "metadata": {},
   "source": [
    "<p>This function is just to print our report we all our data </p>"
   ]
  },
  {
   "cell_type": "code",
   "execution_count": 72,
   "id": "3ece7ecc-d93f-4d8e-a85e-584d33707862",
   "metadata": {},
   "outputs": [],
   "source": [
    "def print_view_report(results):\n",
    "    \n",
    "    for x in results:\n",
    "        if (x[0] is not None):\n",
    "            print(\"Manager in Little Lemon is {} with EmployeeID: {}\\n\".format(x[0], x[1]))\n",
    "        elif (x[2] is not None):\n",
    "            print(\"Employee who receive the highest salary is {} with role: {}\\n\".format(x[2], x[3]))\n",
    "        elif (x[4] is not None):\n",
    "            print(\"Number of guest booked between 18:00 and 20:00: {}\\n\".format(x[4]))\n",
    "        else:\n",
    "            print(\"The guest {} was waiting to be seated with Booking slot {}\".format(x[5], x[6]))"
   ]
  },
  {
   "cell_type": "markdown",
   "id": "f8bfeba4",
   "metadata": {},
   "source": [
    "<p>Then, we just need to run the following code to generate our report daily...</p>\n",
    "<p>How you can see, First we get a connection from our pool, then, we execute the command create view, and finally, we print our report we our function that we wrote before</p> \n",
    "<p>Finally, I close our our connections with our pool, and drop our table view.</p>"
   ]
  },
  {
   "cell_type": "code",
   "execution_count": 73,
   "id": "d2f13be4-279c-4f37-9a18-93bb58542f68",
   "metadata": {},
   "outputs": [
    {
     "name": "stdout",
     "output_type": "stream",
     "text": [
      "Detected a new connection with ID 9\n",
      "Manager in Little Lemon is Mario Gollini with EmployeeID: 1\n",
      "\n",
      "Employee who receive the highest salary is Mario Gollini with role: Manager\n",
      "\n",
      "Number of guest booked between 18:00 and 20:00: 7\n",
      "\n",
      "The guest Anees Java 7 was waiting to be seated with Booking slot 18:00:00\n",
      "The guest Bald Vin 8 was waiting to be seated with Booking slot 19:00:00\n",
      "The guest Jay Kon 9 was waiting to be seated with Booking slot 19:30:00\n",
      "\n",
      "\n",
      "Closing connections....\n",
      "connection is close\n",
      "Cursor is close\n"
     ]
    }
   ],
   "source": [
    "try:\n",
    "    conn = connection_pool.get_connection()\n",
    "    print(\"Detected a new connection with ID {}\"\n",
    "                 .format(conn.connection_id))\n",
    "    if conn.is_connected:\n",
    "        cursor = conn.cursor()\n",
    "        cursor.execute(crea_view_report)\n",
    "        cursor.execute('SELECT * FROM report_daily')\n",
    "        results = cursor.fetchall()\n",
    "        \n",
    "        print_view_report(results)\n",
    "\n",
    "except Error as e:\n",
    "    print('Something went wrong! ', e)\n",
    "finally:\n",
    "    cursor.execute('DROP VIEW IF EXISTS report_daily;')\n",
    "    cursor.close()\n",
    "    conn.close()\n",
    "    print(\"\\n\\nClosing connections....\")\n",
    "    print(\"connection is close\")\n",
    "    print(\"Cursor is close\")"
   ]
  },
  {
   "cell_type": "markdown",
   "id": "14b109be",
   "metadata": {},
   "source": [
    "<h2>Task 4</h2>\n",
    "<p>Create a stored procedure named <b>BasicSalesReport</b> that returns the following statistics:</p>\n",
    "    <ul>\n",
    "        <li>Total sales</li>\n",
    "        <li>Average sale</li>\n",
    "        <li>Minimum bill paid</li>\n",
    "        <li>Maximum bill paid</li>\n",
    "    </ul>"
   ]
  },
  {
   "cell_type": "markdown",
   "id": "61131d75",
   "metadata": {},
   "source": [
    "<p>I wrote first our <b>SQL Statement</b</p>"
   ]
  },
  {
   "cell_type": "code",
   "execution_count": 74,
   "id": "bf7979d3-d0c0-4757-a9d6-43ee82736bef",
   "metadata": {},
   "outputs": [],
   "source": [
    "create_BasicSaleReport = \"\"\"\n",
    "CREATE VIEW BasicSaleReport AS\n",
    "SELECT \n",
    "SUM(BillAmount) AS 'Total Sales', AVG(BillAmount) AS 'Average Sale', MIN(BillAmount) AS 'Minimum bill paid', MAX(BillAmount) AS 'Maximium bill paid'\n",
    "FROM\n",
    "Orders\n",
    "\"\"\""
   ]
  },
  {
   "cell_type": "markdown",
   "id": "e878abc2",
   "metadata": {},
   "source": [
    "<p>This functions is just to print our report</p>"
   ]
  },
  {
   "cell_type": "code",
   "execution_count": 75,
   "id": "5726c909-0dde-45b9-a1c3-7ad98ddfba2e",
   "metadata": {},
   "outputs": [],
   "source": [
    "def print_basicSaleReport(results):\n",
    "    \n",
    "    for x in results:\n",
    "        print(\"We get the following results...\\n\")\n",
    "        print(\"Total Sale: {}\\n\".format(round(x[0], 2)))\n",
    "        print(\"Average Sale: {}\\n\".format(round(x[1], 2)))\n",
    "        print(\"Minimum bill paid: {}\\n\".format(round(x[2], 2)))\n",
    "        print(\"Maximum bill paid: {}\\n\".format(round(x[3], 2)))"
   ]
  },
  {
   "cell_type": "markdown",
   "id": "9c4b1765",
   "metadata": {},
   "source": [
    "<ol>\n",
    "    <li>First, I get a new connection from our pool</li>\n",
    "    <li>Then, execute the command drop to be sure that <b>BasiSaleReport</b> not exist</li>\n",
    "    <li>Then, Create a view we the data we need with teh command execute</li>\n",
    "    <li>Then, Select all data in our view table</li>\n",
    "    <li>Then, print the report we our aux function <b>print_basicSaleReport()</b></li>\n",
    "    <li>finally, close all connections to put back to our pool</li>\n",
    "</ol>"
   ]
  },
  {
   "cell_type": "code",
   "execution_count": 76,
   "id": "d658c335-8d9e-4e23-b6b1-3785172688fb",
   "metadata": {},
   "outputs": [
    {
     "name": "stdout",
     "output_type": "stream",
     "text": [
      "Detected a new connection with ID 9\n",
      "We get the following results...\n",
      "\n",
      "Total Sale: 243.00\n",
      "\n",
      "Average Sale: 48.60\n",
      "\n",
      "Minimum bill paid: 37\n",
      "\n",
      "Maximum bill paid: 86\n",
      "\n",
      "\n",
      "\n",
      "Closing connections....\n",
      "connection is close\n",
      "Cursor is close\n"
     ]
    }
   ],
   "source": [
    "try:\n",
    "    conn = connection_pool.get_connection()\n",
    "    print(\"Detected a new connection with ID {}\"\n",
    "                 .format(conn.connection_id))\n",
    "    if conn.is_connected:\n",
    "        cursor = conn.cursor()\n",
    "        cursor.execute('DROP VIEW IF EXISTS BasicSaleReport;')\n",
    "        cursor.execute(create_BasicSaleReport)\n",
    "        cursor.execute('SELECT * FROM BasicSaleReport')\n",
    "        results = cursor.fetchall()\n",
    "\n",
    "        print_basicSaleReport(results)\n",
    "except Error as e:\n",
    "    print('Something went wrong! ', e)\n",
    "finally:\n",
    "    cursor.execute('DROP VIEW IF EXISTS BasicSaleReport;')\n",
    "    cursor.close()\n",
    "    conn.close()\n",
    "    print(\"\\n\\nClosing connections....\")\n",
    "    print(\"connection is close\")\n",
    "    print(\"Cursor is close\")"
   ]
  },
  {
   "cell_type": "markdown",
   "id": "b319f2b7",
   "metadata": {},
   "source": [
    "<h2>Task 5</h2>\n",
    "<p>Little Lemon needs to display the next three upcoming <b>bookings</b> from the Bookings table on the kitchen screen to notify their chefs which orders are due next. To complete this task, carry out the following steps:</p>\n",
    "    <ul>\n",
    "        <li>Get a connection from the pool.</li>\n",
    "        <li>Create a buffered cursor.</li>\n",
    "        <li>Combine the data from the Bookings and the Employee tables. Sort the retrieved records in ascending order. Then display the information of the first three guests. </li>\n",
    "        <li>Returned the connection back to the pool.</li>\n",
    "    </ul>\n",
    "\n",
    "<p>The output should be as follows:</p>\n",
    "\n",
    "<p><b>[BookingSlot]</b></p>\n",
    "\n",
    "<p><b>[Guest_name]\n",
    "\n",
    "<p><b>[Assigned to: Employee Name [Employee Role]]</b></p>"
   ]
  },
  {
   "cell_type": "code",
   "execution_count": 77,
   "id": "277eec32-2d6a-49ac-a621-b80937bad919",
   "metadata": {},
   "outputs": [],
   "source": [
    "create_nextBookings = \"\"\"\n",
    "CREATE VIEW nextBookings AS \n",
    "SELECT \n",
    "Bookings.BookingSlot, CONCAT(Bookings.GuestFirstName, ' ', Bookings.GuestLastName) AS 'Guest_Name', employees.Name, employees.Role\n",
    "FROM\n",
    "Bookings \n",
    "INNER JOIN\n",
    "employees\n",
    "WHERE Bookings.EmployeeID = employees.EmployeeID ORDER BY Bookings.BookingSlot ASC LIMIT 3\n",
    "\"\"\""
   ]
  },
  {
   "cell_type": "code",
   "execution_count": 78,
   "id": "05f7a676-6143-4878-8076-31eb0b0dd35f",
   "metadata": {},
   "outputs": [],
   "source": [
    "def print_nextBookings(results):\n",
    "    print(\"Here are the next 3 guest in queue...\\n\")\n",
    "    \n",
    "    for x in results:\n",
    "        print(\"BookingSlot: {}\".format(x[0]))\n",
    "        print(\"Guest Name: {}\".format(x[1]))\n",
    "        print(\"Assigned to: {} {}\\n\".format(x[2], x[3]))"
   ]
  },
  {
   "cell_type": "code",
   "execution_count": 79,
   "id": "e75c9304-bc72-49bf-b4ee-8eefe57f4614",
   "metadata": {},
   "outputs": [
    {
     "name": "stdout",
     "output_type": "stream",
     "text": [
      "Detected a new connection with ID 9\n",
      "Here are the next 3 guest in queue...\n",
      "\n",
      "BookingSlot: 15:00:00\n",
      "Guest Name: Vanessa McCarthy\n",
      "Assigned to: Giorgos Dioudis Head Chef\n",
      "\n",
      "BookingSlot: 17:30:00\n",
      "Guest Name: Marcos Romero\n",
      "Assigned to: Fatma Kaya Assistant Chef\n",
      "\n",
      "BookingSlot: 18:00:00\n",
      "Guest Name: Anees Java\n",
      "Assigned to: John Millar Receptionist\n",
      "\n",
      "\n",
      "\n",
      "Closing connections....\n",
      "connection is close\n",
      "Cursor is close\n"
     ]
    }
   ],
   "source": [
    "try:\n",
    "    conn = connection_pool.get_connection()\n",
    "    print(\"Detected a new connection with ID {}\"\n",
    "                 .format(conn.connection_id))\n",
    "    if conn.is_connected:\n",
    "        cursor = conn.cursor()\n",
    "        cursor.execute('DROP VIEW IF EXISTS nextBookings;')\n",
    "        cursor.execute(create_nextBookings)\n",
    "        cursor.execute('SELECT * FROM nextBookings')\n",
    "        results = cursor.fetchall()\n",
    "\n",
    "        print_nextBookings(results)\n",
    "except Error as e:\n",
    "    print('Something went wrong! ', e)\n",
    "finally:\n",
    "    cursor.execute('DROP VIEW IF EXISTS nextBookings;')\n",
    "    cursor.close()\n",
    "    conn.close()\n",
    "    print(\"\\n\\nClosing connections....\")\n",
    "    print(\"connection is close\")\n",
    "    print(\"Cursor is close\")"
   ]
  },
  {
   "cell_type": "markdown",
   "id": "78c9b84c",
   "metadata": {},
   "source": [
    "<h2><center>Thanks to your for review my assigment, feel free to let me know what do you think about my work, and if you let me a feedback about how can i do better i really appreciate.... I hope you a increible end of year, and I wish you the best in your learning </center></h2>"
   ]
  }
 ],
 "metadata": {
  "kernelspec": {
   "display_name": "Python 3 (ipykernel)",
   "language": "python",
   "name": "python3"
  },
  "language_info": {
   "codemirror_mode": {
    "name": "ipython",
    "version": 3
   },
   "file_extension": ".py",
   "mimetype": "text/x-python",
   "name": "python",
   "nbconvert_exporter": "python",
   "pygments_lexer": "ipython3",
   "version": "3.12.1"
  }
 },
 "nbformat": 4,
 "nbformat_minor": 5
}
